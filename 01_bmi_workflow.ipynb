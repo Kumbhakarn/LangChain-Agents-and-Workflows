{
 "cells": [
  {
   "cell_type": "markdown",
   "id": "71b1b4e5",
   "metadata": {},
   "source": [
    "### Simple Non LLM based Workflow"
   ]
  },
  {
   "cell_type": "code",
   "execution_count": null,
   "id": "a04ca7c0",
   "metadata": {},
   "outputs": [],
   "source": [
    "from langgraph.graph import StateGraph, START, END # start and end are dummy nodes\n",
    "from typing import TypedDict"
   ]
  },
  {
   "cell_type": "code",
   "execution_count": null,
   "id": "b6a4294e",
   "metadata": {},
   "outputs": [],
   "source": [
    "## Define State\n",
    "class BMIState(TypedDict):\n",
    "\n",
    "    # Weight 1st Attribute\n",
    "    weight_kg: float\n",
    "    height_m: float\n",
    "    bmi: float\n",
    "    category: str"
   ]
  },
  {
   "cell_type": "code",
   "execution_count": null,
   "id": "00d3df5b",
   "metadata": {},
   "outputs": [],
   "source": [
    "# Define a fuction to calculate a bmi\n",
    "def calculate_bmi(state: BMIState) -> BMIState: # This is our node # for this node # It gets state of the graph `BMIState` and output is also a state Object `BMIState`\n",
    "\n",
    "    weight = state['weight_kg'] # take the value of weith from state\n",
    "    height = state['height_m'] # take the value of height fomr state\n",
    "\n",
    "    bmi = weight / (height ** 2) # BMI logic\n",
    "    state['bmi'] = round(bmi,2) # update in state\n",
    "    \n",
    "    # Return the state\n",
    "    return state "
   ]
  },
  {
   "cell_type": "code",
   "execution_count": null,
   "id": "88af8ea7",
   "metadata": {},
   "outputs": [],
   "source": [
    "# Defeine a function to categories a bmi `lable_bmi`\n",
    "def label_bmi(state: BMIState) -> BMIState:\n",
    "    bmi = state['bmi']\n",
    "\n",
    "    # logic \n",
    "    if bmi< 18.5:\n",
    "        state['category'] = \"Underweight\"\n",
    "    elif 18.5 <= bmi < 25:\n",
    "        state['category'] = \"Normal\"\n",
    "    elif 25 <= bmi < 30:\n",
    "        state['category'] = \"Overweight\"\n",
    "    else:\n",
    "        state['category'] = 'Obese'\n",
    "        \n",
    "    return state"
   ]
  },
  {
   "cell_type": "code",
   "execution_count": null,
   "id": "8a54c83e",
   "metadata": {},
   "outputs": [],
   "source": [
    "## Define your graph\n",
    "\n",
    "graph = StateGraph(BMIState)\n",
    "\n",
    "## Add nodes to your graphs\n",
    "graph.add_node('calculate_bmi',calculate_bmi) # calculate_bmi is a function we need to define for the direction of \n",
    "                                              # calculate_bmi this function name should  be different\n",
    "graph.add_node('label_bmi',label_bmi)\n",
    "\n",
    "## Ad edges to your graph\n",
    "# 1st Edge\n",
    "graph.add_edge(START,'calculate_bmi')\n",
    "# 2nd Edge\n",
    "graph.add_edge('calculate_bmi','label_bmi')\n",
    "# 3rd Edge\n",
    "graph.add_edge('label_bmi',END)\n",
    "\n",
    "## Compile the graph\n",
    "workflow = graph.compile()\n"
   ]
  },
  {
   "cell_type": "code",
   "execution_count": null,
   "id": "da1ccd8a",
   "metadata": {},
   "outputs": [],
   "source": [
    "## Exicute the graph\n",
    "initial_state = {'weight_kg':95, 'height_m':1.90}\n",
    "\n",
    "final_state= workflow.invoke(initial_state)\n",
    "\n",
    "print(final_state)"
   ]
  },
  {
   "cell_type": "code",
   "execution_count": null,
   "id": "e3524989",
   "metadata": {},
   "outputs": [],
   "source": [
    "# to visualize the graph \n",
    "from IPython.display import Image\n",
    "Image(workflow.get_graph().draw_mermaid_png()) \n",
    "# this workflwo will work in only jupyter notebook"
   ]
  },
  {
   "cell_type": "code",
   "execution_count": null,
   "id": "b3c9dbc5",
   "metadata": {},
   "outputs": [],
   "source": []
  }
 ],
 "metadata": {
  "kernelspec": {
   "display_name": "Python 3",
   "language": "python",
   "name": "python3"
  },
  "language_info": {
   "codemirror_mode": {
    "name": "ipython",
    "version": 3
   },
   "file_extension": ".py",
   "mimetype": "text/x-python",
   "name": "python",
   "nbconvert_exporter": "python",
   "pygments_lexer": "ipython3",
   "version": "3.12.0"
  }
 },
 "nbformat": 4,
 "nbformat_minor": 5
}
