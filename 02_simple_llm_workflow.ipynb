{
 "cells": [
  {
   "cell_type": "code",
   "execution_count": 1,
   "id": "94eb39d5",
   "metadata": {},
   "outputs": [],
   "source": [
    "from langgraph.graph import StateGraph, START, END\n",
    "from typing import TypedDict\n",
    "from dotenv import load_dotenv\n",
    "from langchain_groq import ChatGroq\n",
    "# from langchain_openai import ChatOpenAI\n",
    "import os"
   ]
  },
  {
   "cell_type": "code",
   "execution_count": 2,
   "metadata": {},
   "outputs": [
    {
     "data": {
      "text/plain": [
       "True"
      ]
     },
     "execution_count": 2,
     "metadata": {},
     "output_type": "execute_result"
    }
   ],
   "source": [
    "load_dotenv()\n",
    "# print(\"Loaded key:\", os.getenv(\"GROQ_API_KEY\"))"
   ]
  },
  {
   "cell_type": "code",
   "execution_count": 3,
   "id": "1443f5d2",
   "metadata": {},
   "outputs": [],
   "source": [
    "# Import the API Key for LLM\n",
    "# os.environ.pop(\"OPENAI_API_KEY\", None)"
   ]
  },
  {
   "cell_type": "code",
   "execution_count": 4,
   "metadata": {},
   "outputs": [],
   "source": [
    "llm = ChatGroq(\n",
    "    api_key=os.getenv(\"GROQ_API_KEY\"),  # Explicitly pass\n",
    "    model_name=\"llama3-8b-8192\",\n",
    "    temperature=0.1,\n",
    "    streaming=False,\n",
    ")"
   ]
  },
  {
   "cell_type": "code",
   "execution_count": 5,
   "id": "a8e5ac4f",
   "metadata": {},
   "outputs": [],
   "source": [
    "# Create state type\n",
    "class LLMState(TypedDict):\n",
    "    question: str\n",
    "    answer: str"
   ]
  },
  {
   "cell_type": "code",
   "execution_count": 6,
   "id": "9f2658ad",
   "metadata": {},
   "outputs": [],
   "source": [
    "def llm_qa(state: LLMState) -> LLMState:\n",
    "    question = state['question']\n",
    "    prompt = f\"Answer the following question: {question}\"\n",
    "    answer = llm.invoke(prompt).content\n",
    "    state['answer'] = answer\n",
    "    return state"
   ]
  },
  {
   "cell_type": "code",
   "execution_count": 7,
   "metadata": {},
   "outputs": [
    {
     "data": {
      "text/plain": [
       "<langgraph.graph.state.StateGraph at 0x224d1f7ea80>"
      ]
     },
     "execution_count": 7,
     "metadata": {},
     "output_type": "execute_result"
    }
   ],
   "source": [
    "# Build the graph\n",
    "graph = StateGraph(LLMState)\n",
    "graph.add_node('llm_qa', llm_qa)\n",
    "graph.add_edge(START, 'llm_qa')\n",
    "graph.add_edge('llm_qa', END)"
   ]
  },
  {
   "cell_type": "code",
   "execution_count": 8,
   "metadata": {},
   "outputs": [
    {
     "name": "stdout",
     "output_type": "stream",
     "text": [
      "{'question': 'How far is the moon from the Earth?', 'answer': 'The average distance from the Earth to the Moon is about 384,400 kilometers (238,900 miles). This is called the \"lunar distance\" or \"lunar mean distance.\" However, the Moon\\'s orbit is not a perfect circle and its distance from Earth varies slightly over the course of a month, due to the elliptical shape of its orbit.\\n\\nAt its closest point, called \"perigee,\" the Moon is about 356,400 kilometers (221,500 miles) away from Earth. At its farthest point, called \"apogee,\" the Moon is about 405,500 kilometers (252,000 miles) away from Earth.\\n\\nSo, to summarize:\\n\\n* Average distance: 384,400 kilometers (238,900 miles)\\n* Closest point (perigee): 356,400 kilometers (221,500 miles)\\n* Farthest point (apogee): 405,500 kilometers (252,000 miles)'}\n"
     ]
    }
   ],
   "source": [
    "# Compile and execute\n",
    "workflow = graph.compile()\n",
    "initial_state = {'question': 'How far is the moon from the Earth?'}\n",
    "final_state = workflow.invoke(initial_state)\n",
    "# Compile\n",
    "print(final_state) # final_state['answer'] to see only answer"
   ]
  },
  {
   "cell_type": "code",
   "execution_count": null,
   "metadata": {},
   "outputs": [],
   "source": [
    "# We can get the answer by invoking llm only\n",
    "# llm.invoke('How far is the moon from the Earth?').content\n",
    "# but our end goal is different\n"
   ]
  },
  {
   "cell_type": "code",
   "execution_count": null,
   "id": "883d3428",
   "metadata": {},
   "outputs": [],
   "source": [
    "##  Simple workflow "
   ]
  }
 ],
 "metadata": {
  "kernelspec": {
   "display_name": "Python 3",
   "language": "python",
   "name": "python3"
  },
  "language_info": {
   "codemirror_mode": {
    "name": "ipython",
    "version": 3
   },
   "file_extension": ".py",
   "mimetype": "text/x-python",
   "name": "python",
   "nbconvert_exporter": "python",
   "pygments_lexer": "ipython3",
   "version": "3.12.0"
  }
 },
 "nbformat": 4,
 "nbformat_minor": 5
}
