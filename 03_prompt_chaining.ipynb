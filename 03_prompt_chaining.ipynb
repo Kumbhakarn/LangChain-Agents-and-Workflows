{
 "cells": [
  {
   "cell_type": "markdown",
   "id": "53090c31",
   "metadata": {},
   "source": [
    "## Prompt Chaining Workflow"
   ]
  },
  {
   "cell_type": "code",
   "execution_count": 15,
   "id": "546e7db0",
   "metadata": {},
   "outputs": [],
   "source": [
    "from langgraph.graph import StateGraph, START, END \n",
    "from langchain_groq import ChatGroq\n",
    "from typing import TypedDict\n",
    "from dotenv import load_dotenv"
   ]
  },
  {
   "cell_type": "code",
   "execution_count": 16,
   "id": "9cf7d0d5",
   "metadata": {},
   "outputs": [],
   "source": [
    "load_dotenv()\n",
    "model = ChatGroq(\n",
    "    model_name=\"llama3-8b-8192\",\n",
    "    temperature=0.1,\n",
    "    streaming=False,\n",
    ")"
   ]
  },
  {
   "cell_type": "code",
   "execution_count": 17,
   "metadata": {},
   "outputs": [],
   "source": [
    "class BlogState(TypedDict):\n",
    "    title: str\n",
    "    outline: str\n",
    "    content: str"
   ]
  },
  {
   "cell_type": "code",
   "execution_count": 18,
   "id": "e795c549",
   "metadata": {},
   "outputs": [],
   "source": [
    "def create_outline(state: BlogState) -> BlogState:\n",
    "\n",
    "    # featch title\n",
    "    title = state['title']\n",
    "\n",
    "    # call llm and generate outline\n",
    "    prompt = f\"Generate a detailed outline for a blog on the topic - {title}\"\n",
    "    outline = model.invoke(prompt).content\n",
    "\n",
    "    # update in state\n",
    "    state['outline'] = outline\n",
    "    \n",
    "    return state"
   ]
  },
  {
   "cell_type": "code",
   "execution_count": 19,
   "id": "a5174005",
   "metadata": {},
   "outputs": [],
   "source": [
    "def create_blog(state: BlogState) -> BlogState:\n",
    "\n",
    "    title = state['title']\n",
    "    outline =  state['outline']\n",
    "\n",
    "    prompt = f\"Write a detailed blog on the title -{title} using fallowing outline \\n {outline}\"\n",
    "\n",
    "    content = model.invoke(prompt).content\n",
    "    \n",
    "    state['content'] = content\n",
    "    \n",
    "    return state"
   ]
  },
  {
   "cell_type": "code",
   "execution_count": 20,
   "id": "6d606415",
   "metadata": {},
   "outputs": [],
   "source": [
    "graph = StateGraph(BlogState)\n",
    "\n",
    "# Nodes\n",
    "graph.add_node(\"create_outline\",create_outline)\n",
    "## node2\n",
    "graph.add_node(\"create_blog\",create_blog)\n",
    "\n",
    "# Edges\n",
    "graph.add_edge(START, 'create_outline')\n",
    "# edge2\n",
    "graph.add_edge('create_outline','create_blog')\n",
    "# edge3\n",
    "graph.add_edge('create_blog',END)\n",
    "\n",
    "# Compile\n",
    "# graph.compile()\n",
    "workflow = graph.compile()\n"
   ]
  },
  {
   "cell_type": "code",
   "execution_count": 21,
   "id": "8cdc0402",
   "metadata": {},
   "outputs": [
    {
     "name": "stdout",
     "output_type": "stream",
     "text": [
      "{'title': 'Rise of AI in India', 'outline': 'Here is a detailed outline for a blog on the topic \"Rise of AI in India\":\\n\\n**I. Introduction**\\n\\n* Brief overview of AI and its significance\\n* Importance of India as a hub for AI development and adoption\\n* Thesis statement: AI is transforming India\\'s economy, industries, and daily life, and its impact is expected to grow exponentially in the coming years.\\n\\n**II. Current State of AI in India**\\n\\n* Overview of the current AI landscape in India\\n* Key players in the Indian AI industry (startups, research institutions, and corporations)\\n* Government initiatives and policies supporting AI development and adoption in India (e.g. AI for All, National AI Portal)\\n\\n**III. AI Applications in India**\\n\\n* Healthcare: AI-powered diagnostic tools, telemedicine, and personalized medicine\\n* Finance: AI-powered chatbots, fraud detection, and predictive analytics\\n* Education: AI-powered adaptive learning, personalized education, and virtual teaching assistants\\n* Manufacturing: AI-powered quality control, predictive maintenance, and supply chain optimization\\n* Agriculture: AI-powered crop monitoring, precision farming, and weather forecasting\\n\\n**IV. AI Adoption Challenges in India**\\n\\n* Data quality and availability issues\\n* Lack of skilled AI professionals and talent gap\\n* Regulatory and ethical concerns (e.g. data privacy, bias in AI decision-making)\\n* Infrastructure and connectivity limitations in rural areas\\n\\n**V. Future of AI in India**\\n\\n* Expected growth and adoption rates of AI in various industries\\n* Emerging trends and technologies (e.g. edge AI, Explainable AI, Transfer Learning)\\n* Potential job displacement and upskilling opportunities\\n* Role of government and industry in promoting AI adoption and development\\n\\n**VI. Case Studies and Success Stories**\\n\\n* Examples of Indian companies and startups successfully implementing AI solutions (e.g. Flipkart, Ola, Paytm)\\n* Success stories from various industries (e.g. healthcare, finance, education)\\n* Lessons learned and best practices from these case studies\\n\\n**VII. Conclusion**\\n\\n* Recap of the rise of AI in India and its impact on the economy and society\\n* Call to action for readers to stay updated on the latest AI developments and trends in India\\n* Final thoughts on the potential of AI to transform India\\'s future.\\n\\n**VIII. References**\\n\\n* List of sources cited in the blog post, including academic papers, news articles, and company reports.\\n\\nThis outline should provide a comprehensive framework for a blog post on the rise of AI in India. You can expand or modify sections as needed to fit your writing style and goals.', 'content': '**The Rise of AI in India: Transforming the Economy, Industries, and Daily Life**\\n\\nArtificial Intelligence (AI) has been making waves globally, and India is no exception. With its vast talent pool, growing economy, and increasing adoption of digital technologies, India is poised to become a hub for AI development and adoption. In this blog post, we\\'ll explore the current state of AI in India, its applications, challenges, and future prospects.\\n\\n**I. Introduction**\\n\\nAI is transforming the world, and India is no exception. With its vast talent pool, growing economy, and increasing adoption of digital technologies, India is poised to become a hub for AI development and adoption. AI has the potential to revolutionize industries, improve lives, and drive economic growth. In this blog post, we\\'ll explore the current state of AI in India, its applications, challenges, and future prospects.\\n\\n**II. Current State of AI in India**\\n\\nIndia has made significant progress in AI development and adoption. The country has a thriving startup ecosystem, with many AI-focused startups emerging in recent years. Research institutions, such as the Indian Institute of Technology (IIT) and the Indian Institute of Science (IISc), are also actively involved in AI research and development. The government has launched initiatives such as the AI for All program and the National AI Portal to promote AI development and adoption.\\n\\nKey players in the Indian AI industry include startups like Fractal Analytics, SigTuple, and Niki.ai, which are working on AI-powered solutions for industries such as healthcare, finance, and education. Corporations like Tata Consultancy Services (TCS), Infosys, and Wipro are also investing heavily in AI research and development.\\n\\n**III. AI Applications in India**\\n\\nAI is being applied across various industries in India, including:\\n\\n* **Healthcare**: AI-powered diagnostic tools, telemedicine, and personalized medicine are transforming the healthcare sector. For example, AI-powered diagnostic tools are being used to detect diseases such as cancer and diabetes more accurately and quickly.\\n* **Finance**: AI-powered chatbots, fraud detection, and predictive analytics are being used to improve customer service, reduce costs, and increase efficiency. For example, AI-powered chatbots are being used by banks to provide 24/7 customer support.\\n* **Education**: AI-powered adaptive learning, personalized education, and virtual teaching assistants are being used to improve learning outcomes and reduce teacher workload. For example, AI-powered adaptive learning platforms are being used to provide personalized education to students.\\n* **Manufacturing**: AI-powered quality control, predictive maintenance, and supply chain optimization are being used to improve efficiency and reduce costs. For example, AI-powered quality control systems are being used to detect defects in products more accurately and quickly.\\n* **Agriculture**: AI-powered crop monitoring, precision farming, and weather forecasting are being used to improve crop yields and reduce waste. For example, AI-powered crop monitoring systems are being used to detect crop diseases and pests more accurately and quickly.\\n\\n**IV. AI Adoption Challenges in India**\\n\\nDespite the potential benefits of AI, there are several challenges that need to be addressed, including:\\n\\n* **Data quality and availability issues**: AI requires high-quality and large amounts of data to train and test models. However, data quality and availability issues are common in India, particularly in rural areas.\\n* **Lack of skilled AI professionals and talent gap**: India faces a significant talent gap in AI, with a shortage of skilled professionals who can develop and implement AI solutions.\\n* **Regulatory and ethical concerns**: AI raises several regulatory and ethical concerns, including data privacy, bias in AI decision-making, and job displacement.\\n* **Infrastructure and connectivity limitations**: Rural areas in India often lack the necessary infrastructure and connectivity to support AI adoption.\\n\\n**V. Future of AI in India**\\n\\nThe future of AI in India looks promising, with expected growth and adoption rates in various industries. Emerging trends and technologies, such as edge AI, Explainable AI, and Transfer Learning, are also expected to play a significant role in shaping the future of AI in India.\\n\\n**VI. Case Studies and Success Stories**\\n\\nSeveral Indian companies and startups have successfully implemented AI solutions, including:\\n\\n* **Flipkart**: Flipkart, an e-commerce company, uses AI-powered chatbots to provide 24/7 customer support and improve customer experience.\\n* **Ola**: Ola, a ride-hailing company, uses AI-powered algorithms to optimize routes and reduce traffic congestion.\\n* **Paytm**: Paytm, a digital payments company, uses AI-powered fraud detection to reduce fraudulent transactions.\\n\\nThese case studies demonstrate the potential of AI to transform industries and improve lives in India.\\n\\n**VII. Conclusion**\\n\\nThe rise of AI in India is transforming the economy, industries, and daily life. While there are challenges to be addressed, the potential benefits of AI are significant. As AI continues to evolve and improve, it is essential to stay updated on the latest developments and trends in India. The future of AI in India looks promising, and it is expected to play a significant role in shaping the country\\'s future.\\n\\n**VIII. References**\\n\\n* \"AI in India: A Primer\" by NASSCOM\\n* \"The Rise of AI in India\" by Forbes India\\n* \"AI in Healthcare: A Review\" by Journal of Medical Systems\\n* \"AI in Finance: A Review\" by Journal of Financial Economics\\n* \"AI in Education: A Review\" by Journal of Educational Computing Research\\n\\nNote: The references provided are a selection of sources and are not exhaustive.'}\n"
     ]
    }
   ],
   "source": [
    "initial_state = {'title': 'Rise of AI in India'}\n",
    "final_state = workflow.invoke(initial_state)\n",
    "\n",
    "print(final_state)"
   ]
  },
  {
   "cell_type": "code",
   "execution_count": 24,
   "id": "e89a5a3d",
   "metadata": {},
   "outputs": [
    {
     "name": "stdout",
     "output_type": "stream",
     "text": [
      "outline:  Here is a detailed outline for a blog on the topic \"Rise of AI in India\":\n",
      "\n",
      "**I. Introduction**\n",
      "\n",
      "* Brief overview of AI and its significance\n",
      "* Importance of India as a hub for AI development and adoption\n",
      "* Thesis statement: AI is transforming India's economy, industries, and daily life, and its impact is expected to grow exponentially in the coming years.\n",
      "\n",
      "**II. Current State of AI in India**\n",
      "\n",
      "* Overview of the current AI landscape in India\n",
      "* Key players in the Indian AI industry (startups, research institutions, and corporations)\n",
      "* Government initiatives and policies supporting AI development and adoption in India (e.g. AI for All, National AI Portal)\n",
      "\n",
      "**III. AI Applications in India**\n",
      "\n",
      "* Healthcare: AI-powered diagnostic tools, telemedicine, and personalized medicine\n",
      "* Finance: AI-powered chatbots, fraud detection, and predictive analytics\n",
      "* Education: AI-powered adaptive learning, personalized education, and virtual teaching assistants\n",
      "* Manufacturing: AI-powered quality control, predictive maintenance, and supply chain optimization\n",
      "* Agriculture: AI-powered crop monitoring, precision farming, and weather forecasting\n",
      "\n",
      "**IV. AI Adoption Challenges in India**\n",
      "\n",
      "* Data quality and availability issues\n",
      "* Lack of skilled AI professionals and talent gap\n",
      "* Regulatory and ethical concerns (e.g. data privacy, bias in AI decision-making)\n",
      "* Infrastructure and connectivity limitations in rural areas\n",
      "\n",
      "**V. Future of AI in India**\n",
      "\n",
      "* Expected growth and adoption rates of AI in various industries\n",
      "* Emerging trends and technologies (e.g. edge AI, Explainable AI, Transfer Learning)\n",
      "* Potential job displacement and upskilling opportunities\n",
      "* Role of government and industry in promoting AI adoption and development\n",
      "\n",
      "**VI. Case Studies and Success Stories**\n",
      "\n",
      "* Examples of Indian companies and startups successfully implementing AI solutions (e.g. Flipkart, Ola, Paytm)\n",
      "* Success stories from various industries (e.g. healthcare, finance, education)\n",
      "* Lessons learned and best practices from these case studies\n",
      "\n",
      "**VII. Conclusion**\n",
      "\n",
      "* Recap of the rise of AI in India and its impact on the economy and society\n",
      "* Call to action for readers to stay updated on the latest AI developments and trends in India\n",
      "* Final thoughts on the potential of AI to transform India's future.\n",
      "\n",
      "**VIII. References**\n",
      "\n",
      "* List of sources cited in the blog post, including academic papers, news articles, and company reports.\n",
      "\n",
      "This outline should provide a comprehensive framework for a blog post on the rise of AI in India. You can expand or modify sections as needed to fit your writing style and goals.\n"
     ]
    }
   ],
   "source": [
    "print(\"outline: \",final_state['outline'])"
   ]
  },
  {
   "cell_type": "code",
   "execution_count": 25,
   "id": "0db77643",
   "metadata": {},
   "outputs": [
    {
     "name": "stdout",
     "output_type": "stream",
     "text": [
      "**The Rise of AI in India: Transforming the Economy, Industries, and Daily Life**\n",
      "\n",
      "Artificial Intelligence (AI) has been making waves globally, and India is no exception. With its vast talent pool, growing economy, and increasing adoption of digital technologies, India is poised to become a hub for AI development and adoption. In this blog post, we'll explore the current state of AI in India, its applications, challenges, and future prospects.\n",
      "\n",
      "**I. Introduction**\n",
      "\n",
      "AI is transforming the world, and India is no exception. With its vast talent pool, growing economy, and increasing adoption of digital technologies, India is poised to become a hub for AI development and adoption. AI has the potential to revolutionize industries, improve lives, and drive economic growth. In this blog post, we'll explore the current state of AI in India, its applications, challenges, and future prospects.\n",
      "\n",
      "**II. Current State of AI in India**\n",
      "\n",
      "India has made significant progress in AI development and adoption. The country has a thriving startup ecosystem, with many AI-focused startups emerging in recent years. Research institutions, such as the Indian Institute of Technology (IIT) and the Indian Institute of Science (IISc), are also actively involved in AI research and development. The government has launched initiatives such as the AI for All program and the National AI Portal to promote AI development and adoption.\n",
      "\n",
      "Key players in the Indian AI industry include startups like Fractal Analytics, SigTuple, and Niki.ai, which are working on AI-powered solutions for industries such as healthcare, finance, and education. Corporations like Tata Consultancy Services (TCS), Infosys, and Wipro are also investing heavily in AI research and development.\n",
      "\n",
      "**III. AI Applications in India**\n",
      "\n",
      "AI is being applied across various industries in India, including:\n",
      "\n",
      "* **Healthcare**: AI-powered diagnostic tools, telemedicine, and personalized medicine are transforming the healthcare sector. For example, AI-powered diagnostic tools are being used to detect diseases such as cancer and diabetes more accurately and quickly.\n",
      "* **Finance**: AI-powered chatbots, fraud detection, and predictive analytics are being used to improve customer service, reduce costs, and increase efficiency. For example, AI-powered chatbots are being used by banks to provide 24/7 customer support.\n",
      "* **Education**: AI-powered adaptive learning, personalized education, and virtual teaching assistants are being used to improve learning outcomes and reduce teacher workload. For example, AI-powered adaptive learning platforms are being used to provide personalized education to students.\n",
      "* **Manufacturing**: AI-powered quality control, predictive maintenance, and supply chain optimization are being used to improve efficiency and reduce costs. For example, AI-powered quality control systems are being used to detect defects in products more accurately and quickly.\n",
      "* **Agriculture**: AI-powered crop monitoring, precision farming, and weather forecasting are being used to improve crop yields and reduce waste. For example, AI-powered crop monitoring systems are being used to detect crop diseases and pests more accurately and quickly.\n",
      "\n",
      "**IV. AI Adoption Challenges in India**\n",
      "\n",
      "Despite the potential benefits of AI, there are several challenges that need to be addressed, including:\n",
      "\n",
      "* **Data quality and availability issues**: AI requires high-quality and large amounts of data to train and test models. However, data quality and availability issues are common in India, particularly in rural areas.\n",
      "* **Lack of skilled AI professionals and talent gap**: India faces a significant talent gap in AI, with a shortage of skilled professionals who can develop and implement AI solutions.\n",
      "* **Regulatory and ethical concerns**: AI raises several regulatory and ethical concerns, including data privacy, bias in AI decision-making, and job displacement.\n",
      "* **Infrastructure and connectivity limitations**: Rural areas in India often lack the necessary infrastructure and connectivity to support AI adoption.\n",
      "\n",
      "**V. Future of AI in India**\n",
      "\n",
      "The future of AI in India looks promising, with expected growth and adoption rates in various industries. Emerging trends and technologies, such as edge AI, Explainable AI, and Transfer Learning, are also expected to play a significant role in shaping the future of AI in India.\n",
      "\n",
      "**VI. Case Studies and Success Stories**\n",
      "\n",
      "Several Indian companies and startups have successfully implemented AI solutions, including:\n",
      "\n",
      "* **Flipkart**: Flipkart, an e-commerce company, uses AI-powered chatbots to provide 24/7 customer support and improve customer experience.\n",
      "* **Ola**: Ola, a ride-hailing company, uses AI-powered algorithms to optimize routes and reduce traffic congestion.\n",
      "* **Paytm**: Paytm, a digital payments company, uses AI-powered fraud detection to reduce fraudulent transactions.\n",
      "\n",
      "These case studies demonstrate the potential of AI to transform industries and improve lives in India.\n",
      "\n",
      "**VII. Conclusion**\n",
      "\n",
      "The rise of AI in India is transforming the economy, industries, and daily life. While there are challenges to be addressed, the potential benefits of AI are significant. As AI continues to evolve and improve, it is essential to stay updated on the latest developments and trends in India. The future of AI in India looks promising, and it is expected to play a significant role in shaping the country's future.\n",
      "\n",
      "**VIII. References**\n",
      "\n",
      "* \"AI in India: A Primer\" by NASSCOM\n",
      "* \"The Rise of AI in India\" by Forbes India\n",
      "* \"AI in Healthcare: A Review\" by Journal of Medical Systems\n",
      "* \"AI in Finance: A Review\" by Journal of Financial Economics\n",
      "* \"AI in Education: A Review\" by Journal of Educational Computing Research\n",
      "\n",
      "Note: The references provided are a selection of sources and are not exhaustive.\n"
     ]
    }
   ],
   "source": [
    "print(final_state['content'])"
   ]
  }
 ],
 "metadata": {
  "kernelspec": {
   "display_name": "Python 3",
   "language": "python",
   "name": "python3"
  },
  "language_info": {
   "codemirror_mode": {
    "name": "ipython",
    "version": 3
   },
   "file_extension": ".py",
   "mimetype": "text/x-python",
   "name": "python",
   "nbconvert_exporter": "python",
   "pygments_lexer": "ipython3",
   "version": "3.12.0"
  }
 },
 "nbformat": 4,
 "nbformat_minor": 5
}
